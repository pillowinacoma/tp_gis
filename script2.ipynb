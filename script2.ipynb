{
 "cells": [
  {
   "cell_type": "code",
   "execution_count": 18,
   "metadata": {},
   "outputs": [],
   "source": [
    "\n",
    "import requests\n",
    "import pg8000\n",
    "from shapely import wkb\n",
    "import requests\n",
    "import ssl"
   ]
  },
  {
   "cell_type": "code",
   "execution_count": 19,
   "metadata": {},
   "outputs": [],
   "source": [
    "ssl_context = ssl.SSLContext()\n",
    "ssl_context.verify_mode = ssl.CERT_NONE\n",
    "conn = pg8000.connect(user = \"p1711842\", host = \"bd-pedago.univ-lyon1.fr\", port = 5432,\n",
    "                              database = \"p1711842\", password = \"Pu1WtY83xbUx\", ssl_context=ssl_context)\n",
    "localConnection = pg8000.connect(user = \"postgres\", host = \"localhost\", port = 5432,\n",
    "                              database = \"postgres\", password = \"password\")"
   ]
  },
  {
   "cell_type": "code",
   "execution_count": 21,
   "metadata": {
    "pycharm": {
     "name": "#%%\n"
    }
   },
   "outputs": [
    {
     "data": {
      "text/plain": [
       "(['0101000020E61000000C76C3B64519F73FF623456458CD4540',\n",
       "  2972315,\n",
       "  'Toulouse',\n",
       "  'Lasbordes',\n",
       "  'LFCL',\n",
       "  4903.63627345],\n",
       " ['0101000020E61000005DBF60376CFB1E407BBDFBE3BD4A4840',\n",
       "  2973783,\n",
       "  'Strasbourg Neudorf',\n",
       "  'Polygone',\n",
       "  'LFGC',\n",
       "  4015.27459378],\n",
       " ['0101000020E610000027C286A757CA0240280AF4893C6D4840',\n",
       "  2988507,\n",
       "  'Villacoublay',\n",
       "  'Velizy',\n",
       "  'LFPV',\n",
       "  13908.56460239],\n",
       " ['0101000020E61000008D7A884677101D40126BF12900DA4540',\n",
       "  2990440,\n",
       "  'Nice',\n",
       "  \"Cote D\\\\\\\\'Azur\",\n",
       "  'LFMN',\n",
       "  6405.29212013],\n",
       " ['0101000020E61000000AA2EE0390DAF8BF2B8716D9CE9B4740',\n",
       "  2990969,\n",
       "  'Nantes',\n",
       "  'Nantes Atlantique',\n",
       "  'LFRS',\n",
       "  8338.73964086],\n",
       " ['0101000020E6100000FBCBEEC9C3020F40991249F432CE4540',\n",
       "  2992166,\n",
       "  'Montpellier',\n",
       "  'Mediterranee',\n",
       "  'LFMT',\n",
       "  7976.8059459],\n",
       " ['0101000020E610000067F2CD36378615400B46257502A64540',\n",
       "  2995469,\n",
       "  'Marseille',\n",
       "  'Provence',\n",
       "  'LFML',\n",
       "  20512.93108172],\n",
       " ['0101000020E6100000DEC83CF2076313409D2E8B89CDDF4640',\n",
       "  2996944,\n",
       "  'Lyon',\n",
       "  'Bron',\n",
       "  'LFLY',\n",
       "  7933.18880796],\n",
       " ['0101000020E6100000F29881CAF8770840B0AC342905514940',\n",
       "  2998324,\n",
       "  'Lille',\n",
       "  'Lesquin',\n",
       "  'LFQQ',\n",
       "  8192.89598752],\n",
       " ['0101000020E6100000FA7E6ABC7493E2BF0820B589936B4640',\n",
       "  3031582,\n",
       "  'Bordeaux',\n",
       "  'Merignac',\n",
       "  'LFBD',\n",
       "  10734.39360187])"
      ]
     },
     "execution_count": 21,
     "metadata": {},
     "output_type": "execute_result"
    }
   ],
   "source": [
    "meteo_aeroports = conn.run(\"SELECT * from public.aeroport_proche_ville\")\n",
    "meteo_aeroports"
   ]
  },
  {
   "cell_type": "code",
   "execution_count": 22,
   "metadata": {
    "collapsed": false,
    "pycharm": {
     "name": "#%%\n"
    }
   },
   "outputs": [],
   "source": [
    "aeroports = list(map(lambda x: [*x[1:], wkb.loads(x[0], hex=True)],\n",
    "                     meteo_aeroports))"
   ]
  },
  {
   "cell_type": "code",
   "execution_count": 23,
   "metadata": {
    "collapsed": false,
    "pycharm": {
     "name": "#%%\n"
    }
   },
   "outputs": [
    {
     "data": {
      "text/plain": [
       "[[2972315,\n",
       "  'Toulouse',\n",
       "  'Lasbordes',\n",
       "  'LFCL',\n",
       "  4903.63627345,\n",
       "  <shapely.geometry.point.Point at 0x7f28d6207940>],\n",
       " [2973783,\n",
       "  'Strasbourg Neudorf',\n",
       "  'Polygone',\n",
       "  'LFGC',\n",
       "  4015.27459378,\n",
       "  <shapely.geometry.point.Point at 0x7f2920097bb0>],\n",
       " [2988507,\n",
       "  'Villacoublay',\n",
       "  'Velizy',\n",
       "  'LFPV',\n",
       "  13908.56460239,\n",
       "  <shapely.geometry.point.Point at 0x7f28d6207880>],\n",
       " [2990440,\n",
       "  'Nice',\n",
       "  \"Cote D\\\\\\\\'Azur\",\n",
       "  'LFMN',\n",
       "  6405.29212013,\n",
       "  <shapely.geometry.point.Point at 0x7f28d61b6100>],\n",
       " [2990969,\n",
       "  'Nantes',\n",
       "  'Nantes Atlantique',\n",
       "  'LFRS',\n",
       "  8338.73964086,\n",
       "  <shapely.geometry.point.Point at 0x7f28d6207dc0>],\n",
       " [2992166,\n",
       "  'Montpellier',\n",
       "  'Mediterranee',\n",
       "  'LFMT',\n",
       "  7976.8059459,\n",
       "  <shapely.geometry.point.Point at 0x7f28d6207a00>],\n",
       " [2995469,\n",
       "  'Marseille',\n",
       "  'Provence',\n",
       "  'LFML',\n",
       "  20512.93108172,\n",
       "  <shapely.geometry.point.Point at 0x7f28d6207c70>],\n",
       " [2996944,\n",
       "  'Lyon',\n",
       "  'Bron',\n",
       "  'LFLY',\n",
       "  7933.18880796,\n",
       "  <shapely.geometry.point.Point at 0x7f28d6207d30>],\n",
       " [2998324,\n",
       "  'Lille',\n",
       "  'Lesquin',\n",
       "  'LFQQ',\n",
       "  8192.89598752,\n",
       "  <shapely.geometry.point.Point at 0x7f28d6207850>],\n",
       " [3031582,\n",
       "  'Bordeaux',\n",
       "  'Merignac',\n",
       "  'LFBD',\n",
       "  10734.39360187,\n",
       "  <shapely.geometry.point.Point at 0x7f28d6207fd0>]]"
      ]
     },
     "execution_count": 23,
     "metadata": {},
     "output_type": "execute_result"
    }
   ],
   "source": [
    "aeroports"
   ]
  },
  {
   "cell_type": "code",
   "execution_count": 27,
   "metadata": {
    "collapsed": false,
    "pycharm": {
     "name": "#%%\n"
    }
   },
   "outputs": [],
   "source": [
    "icao = list(set(map(lambda x : x[3], aeroports)))"
   ]
  },
  {
   "cell_type": "code",
   "execution_count": 28,
   "metadata": {
    "collapsed": false,
    "pycharm": {
     "name": "#%%\n"
    }
   },
   "outputs": [],
   "source": [
    "url = 'https://api.met.no/weatherapi/tafmetar/1.0/taf.txt?icao={}'.format(\",\".join(icao))\n",
    "\n",
    "headers = {\n",
    "    'User-Agent': 'python',\n",
    "    'Accept': 'text/plain'\n",
    "}\n",
    "\n",
    "response = requests.get(url, headers=headers)"
   ]
  },
  {
   "cell_type": "code",
   "execution_count": 29,
   "metadata": {
    "collapsed": false,
    "pycharm": {
     "name": "#%%\n"
    }
   },
   "outputs": [],
   "source": [
    "tafs = response.text.split('\\n')"
   ]
  },
  {
   "cell_type": "code",
   "execution_count": 30,
   "metadata": {
    "collapsed": false,
    "pycharm": {
     "name": "#%%\n"
    }
   },
   "outputs": [
    {
     "data": {
      "text/plain": [
       "['LFBD 301100Z 3012/3118 VRB03KT 9999 OVC007 TX10/3114Z TN05/3106Z BECMG 3018/3020 3000 BR TEMPO 3102/3112 -RADZ BKN005 BECMG 3103/3105 24010KT BECMG 3110/3112 32010KT 9999 NSW BKN015 TEMPO 3012/3018 BKN020=',\n",
       " 'LFBD 301700Z 3018/3124 02005KT 9999 OVC008 TX10/3114Z TN03/3124Z BECMG 3018/3019 3000 BR TEMPO 3100/3109 1500 -RADZ BKN005 BECMG 3101/3103 24005KT BECMG 3109/3111 32010KT 9999 NSW SCT020 TEMPO 3112/3114 RADZ BKN010 BECMG 3114/3116 OVC030=',\n",
       " 'LFBD 301910Z 3019/3124 02005KT 9999 OVC010 TX10/3114Z TN03/3124Z BECMG 3019/3021 3000 BR TEMPO 3100/3109 1500 -RADZ BKN005 BECMG 3101/3103 24005KT BECMG 3109/3111 32010KT 9999 NSW SCT020 TEMPO 3112/3114 RADZ BKN010 BECMG 3114/3116 OVC030=',\n",
       " 'LFBD 302147Z 3021/3124 02005KT 9999 OVC015 TX10/3114Z TN03/3124Z TEMPO 3100/3109 1500 -RADZ BKN005 BECMG 3101/3103 24005KT BECMG 3109/3111 32010KT 9999 NSW SCT020 TEMPO 3112/3114 RADZ BKN010 BECMG 3114/3116 OVC030=',\n",
       " 'LFBD 302300Z 3100/0106 02005KT 9999 OVC015 TX10/3114Z TN03/3124Z TEMPO 3100/3109 1500 -RADZ BKN005 BECMG 3101/3103 24005KT BECMG 3109/3111 32010KT 9999 NSW SCT020 TEMPO 3112/3114 RADZ BKN010 BECMG 3114/3116 OVC030=',\n",
       " 'LFBD 310218Z 3102/0106 30005KT 9999 OVC015 TX10/3114Z TN03/3124Z TEMPO 3102/3109 1500 -RADZ BKN004 BECMG 3109/3111 32010KT SCT020 TEMPO 3112/3114 RADZ BKN010 BECMG 3114/3116 OVC030=',\n",
       " 'LFBD 310500Z 3106/0112 30005KT 9999 BKN014 OVC020 TX10/3114Z TN03/3124Z TEMPO 3106/3112 2000 -RADZ BKN005 BECMG 3112/3114 32012KT SCT020 BECMG 0102/0104 VRB02KT PROB30 0104/0108 MIFG=',\n",
       " 'LFBD 310603Z 3106/0112 30005KT 9999 BKN014 OVC020 TX10/3114Z TN03/3124Z TEMPO 3106/3112 2000 -RADZ BKN003 BECMG 3112/3114 32012KT SCT020 BECMG 0102/0104 VRB02KT PROB30 0104/0108 MIFG=',\n",
       " 'LFLY 301100Z 3012/3112 34012KT 9999 BKN014 BECMG 3012/3014 BKN020 PROB30 TEMPO 3100/3106 VRB02KT 3000 BR BECMG 3105/3107 18005KT TEMPO 3111/3112 30010KT RA=',\n",
       " 'LFLY 301700Z 3018/3118 34006KT 9999 FEW025 BECMG 3018/3021 BKN025 PROB40 TEMPO 3021/3106 VRB02KT 3000 BR BECMG 3106/3108 18005KT BECMG 3110/3112 32012KT TEMPO 3111/3113 4000 RA TEMPO 3115/3118 34015G30KT 4000 SHRA SCT020TCU BKN025=',\n",
       " 'LFLY 302300Z 3100/3124 VRB02KT 8000 BKN030 PROB40 TEMPO 3100/3106 3000 BR FM310600 16005KT 9999 OVC030 TEMPO 3110/3113 33015G25KT 4000 SHRA SCT020TCU OVC030 BECMG 3110/3112 33015KT TEMPO 3113/3118 34015G30KT 4000 SHRA SCT015TCU BKN030=',\n",
       " 'LFLY 310500Z 3106/0106 16006KT 8000 OVC030 PROB30 TEMPO 3106/3109 4000 -RADZ BR BKN020 TEMPO 3110/3113 33015G25KT 4000 SHRA SCT020TCU OVC030 BECMG 3110/3112 33015KT TEMPO 3113/3118 34015G30KT 4000 SHRA SCT015TCU BKN030 BECMG 3122/3124 36005KT=',\n",
       " 'LFQQ 301100Z 3012/3118 28006KT 9999 SCT030 BECMG 3018/3020 20010KT BECMG 3023/3101 20015G25KT BKN014 TEMPO 3101/3104 28025G40KT 3000 SHRA BKN007 BKN015CB FM310400 30020G35KT 9999 SCT030 BECMG 3116/3118 30017KT=',\n",
       " 'LFQQ 301725Z 3018/3124 20010KT 9999 SCT030 BECMG 3022/3024 20015G25KT BKN014 TEMPO 3100/3103 28025G40KT 3000 SHRA BKN007 BKN015CB FM310300 30020G35KT 9999 SCT030 BECMG 3119/3121 33012KT BECMG 3122/3124 26010KT=',\n",
       " 'LFQQ 302300Z 3100/0106 22015G25KT 9999 FEW020 BKN030 TEMPO 3100/3103 28025G40KT 3000 SHRA BKN007 BKN015CB FM310300 30020G35KT 9999 SCT030 BECMG 3119/3121 33012KT BECMG 3122/3124 26010KT=',\n",
       " 'LFQQ 310500Z 3106/0112 30018KT 9999 SCT030 TEMPO 3106/3119 30023G35KT FM312100 33012KT 9999 SCT040 BECMG 3122/0101 24010KT=',\n",
       " 'LFQQ 310654Z 3106/0112 30018KT 9999 SCT030 TEMPO 3106/3119 30023G35KT FM312100 33012KT 9999 SCT040 BECMG 3122/0101 24010KT BECMG 0104/0107 BKN008 OVC013 TEMPO 0107/0112 3000 DZRA OVC005=',\n",
       " 'LFRS 301100Z 3012/3118 VRB03KT 9999 BKN008 BKN025 TEMPO 3012/3015 2500 -DZ BKN004 TEMPO 3016/3021 1500 -DZRA BKN002 BECMG 3021/3024 SCT006 BKN020 TEMPO 3100/3106 3000 -RADZ BKN005 BECMG 3103/3106 30010KT TEMPO 3112/3118 33015G25KT=',\n",
       " 'LFRS 301700Z 3018/3124 28004KT 9999 BKN012 BKN025 TEMPO 3018/3022 3000 -DZRA BKN003 BECMG 3022/3024 SCT006 BKN020 TEMPO 3100/3106 4000 -RADZ BKN005 BECMG 3103/3106 30010KT TEMPO 3111/3118 33015G25KT=',\n",
       " 'LFRS 302220Z 3022/3124 28004KT 9999 BKN012 BKN025 TEMPO 3022/3023 3000 -DZRA BKN003 BECMG 3022/3024 SCT006 BKN020 TEMPO 3100/3106 4000 -RADZ BKN005 BECMG 3103/3106 30010KT TEMPO 3111/3118 33015G25KT=',\n",
       " 'LFRS 302300Z 3100/0106 30007KT 9999 BKN009 BECMG 3100/3102 SCT006 BKN020 TEMPO 3100/3106 4000 -RADZ BKN005 BECMG 3103/3106 30010KT TEMPO 3111/3118 33015G25KT=',\n",
       " 'LFRS 310500Z 3106/0112 29008KT 9999 SCT010 BKN025 TEMPO 3106/3108 BKN010 TEMPO 3109/3117 33015G25KT=',\n",
       " '',\n",
       " '']"
      ]
     },
     "execution_count": 30,
     "metadata": {},
     "output_type": "execute_result"
    }
   ],
   "source": [
    "tafs"
   ]
  },
  {
   "cell_type": "code",
   "execution_count": 32,
   "metadata": {
    "collapsed": false,
    "pycharm": {
     "name": "#%%\n"
    }
   },
   "outputs": [
    {
     "data": {
      "text/plain": [
       "{'LFBD': {'ciel': 'pluie',\n",
       "  'taf': 'LFBD 310603Z 3106/0112 30005KT 9999 BKN014 OVC020 TX10/3114Z TN03/3124Z TEMPO 3106/3112 2000 -RADZ BKN003 BECMG 3112/3114 32012KT SCT020 BECMG 0102/0104 VRB02KT PROB30 0104/0108 MIFG='},\n",
       " 'LFLY': {'ciel': 'pluie',\n",
       "  'taf': 'LFLY 310500Z 3106/0106 16006KT 8000 OVC030 PROB30 TEMPO 3106/3109 4000 -RADZ BR BKN020 TEMPO 3110/3113 33015G25KT 4000 SHRA SCT020TCU OVC030 BECMG 3110/3112 33015KT TEMPO 3113/3118 34015G30KT 4000 SHRA SCT015TCU BKN030 BECMG 3122/3124 36005KT='},\n",
       " 'LFQQ': {'ciel': 'pluie',\n",
       "  'taf': 'LFQQ 310654Z 3106/0112 30018KT 9999 SCT030 TEMPO 3106/3119 30023G35KT FM312100 33012KT 9999 SCT040 BECMG 3122/0101 24010KT BECMG 0104/0107 BKN008 OVC013 TEMPO 0107/0112 3000 DZRA OVC005='},\n",
       " 'LFRS': {'ciel': 'soleil',\n",
       "  'taf': 'LFRS 310500Z 3106/0112 29008KT 9999 SCT010 BKN025 TEMPO 3106/3108 BKN010 TEMPO 3109/3117 33015G25KT='}}"
      ]
     },
     "execution_count": 32,
     "metadata": {},
     "output_type": "execute_result"
    }
   ],
   "source": [
    "from functools import reduce\n",
    "\n",
    "def reduceTafs(acc, curr):\n",
    "    splitted = curr.split(' ')\n",
    "    if splitted[0] != '':\n",
    "        acc[splitted[0]] = {'ciel': None, 'taf': curr}\n",
    "        if curr.find('SN') != -1:\n",
    "            acc[splitted[0]]['ciel'] = 'neige'\n",
    "        elif curr.find('RA') != -1:\n",
    "            acc[splitted[0]]['ciel'] = 'pluie'\n",
    "        elif curr.find('OVC') != -1:\n",
    "            acc[splitted[0]]['ciel'] = 'nuageux'\n",
    "        else:\n",
    "            acc[splitted[0]]['ciel'] = 'soleil'\n",
    "    return acc\n",
    "tafReduced = reduce(reduceTafs,tafs,{})\n",
    "tafReduced"
   ]
  },
  {
   "cell_type": "code",
   "execution_count": 37,
   "metadata": {
    "collapsed": false,
    "pycharm": {
     "name": "#%%\n"
    }
   },
   "outputs": [
    {
     "name": "stdout",
     "output_type": "stream",
     "text": [
      "('<?xml version=\"1.0\" encoding=\"UTF-8\"?>\\n'\n",
      " '<kml xmlns=\"http://www.opengis.net/kml/2.2\">\\n'\n",
      " '  <Document>\\n'\n",
      " '    <Placemark>\\n'\n",
      " '      <name>Toulouse</name>\\n'\n",
      " '      <description></description>\\n'\n",
      " '      <Point>\\n'\n",
      " '        <coordinates>1.44367,43.60426</coordinates>\\n'\n",
      " '      </Point>\\n'\n",
      " '      '\n",
      " '<Style><IconStyle><scale>3</scale><Icon><href></href></Icon></IconStyle></Style>\\n'\n",
      " '    </Placemark>\\n'\n",
      " '    <Placemark>\\n'\n",
      " '      <name>Strasbourg Neudorf</name>\\n'\n",
      " '      <description></description>\\n'\n",
      " '      <Point>\\n'\n",
      " '        <coordinates>7.74553,48.58392</coordinates>\\n'\n",
      " '      </Point>\\n'\n",
      " '      '\n",
      " '<Style><IconStyle><scale>3</scale><Icon><href></href></Icon></IconStyle></Style>\\n'\n",
      " '    </Placemark>\\n'\n",
      " '    <Placemark>\\n'\n",
      " '      <name>Villacoublay</name>\\n'\n",
      " '      <description></description>\\n'\n",
      " '      <Point>\\n'\n",
      " '        <coordinates>2.3488,48.85341</coordinates>\\n'\n",
      " '      </Point>\\n'\n",
      " '      '\n",
      " '<Style><IconStyle><scale>3</scale><Icon><href></href></Icon></IconStyle></Style>\\n'\n",
      " '    </Placemark>\\n'\n",
      " '    <Placemark>\\n'\n",
      " '      <name>Nice</name>\\n'\n",
      " '      <description></description>\\n'\n",
      " '      <Point>\\n'\n",
      " '        <coordinates>7.26608,43.70313</coordinates>\\n'\n",
      " '      </Point>\\n'\n",
      " '      '\n",
      " '<Style><IconStyle><scale>3</scale><Icon><href></href></Icon></IconStyle></Style>\\n'\n",
      " '    </Placemark>\\n'\n",
      " '    <Placemark>\\n'\n",
      " '      <name>Nantes</name>\\n'\n",
      " '      <description>LFRS 310500Z 3106/0112 29008KT 9999 SCT010 BKN025 TEMPO '\n",
      " '3106/3108 BKN010 TEMPO 3109/3117 33015G25KT=</description>\\n'\n",
      " '      <Point>\\n'\n",
      " '        <coordinates>-1.55336,47.21725</coordinates>\\n'\n",
      " '      </Point>\\n'\n",
      " '      '\n",
      " '<Style><IconStyle><scale>3</scale><Icon><href>https://s1.qwant.com/thumbr/0x380/2/8/5c823871ecb28b140cce1d49f4457c786696a332c08420b1c58c69cda8a875/sunicon.png?u=https%3A%2F%2Fopenclipart.org%2Fimage%2F2400px%2Fsvg_to_png%2F208526%2Fsunicon.png&amp;q=0&amp;b=1&amp;p=0&amp;a=0</href></Icon></IconStyle></Style>\\n'\n",
      " '    </Placemark>\\n'\n",
      " '    <Placemark>\\n'\n",
      " '      <name>Montpellier</name>\\n'\n",
      " '      <description></description>\\n'\n",
      " '      <Point>\\n'\n",
      " '        <coordinates>3.87635,43.61093</coordinates>\\n'\n",
      " '      </Point>\\n'\n",
      " '      '\n",
      " '<Style><IconStyle><scale>3</scale><Icon><href></href></Icon></IconStyle></Style>\\n'\n",
      " '    </Placemark>\\n'\n",
      " '    <Placemark>\\n'\n",
      " '      <name>Marseille</name>\\n'\n",
      " '      <description></description>\\n'\n",
      " '      <Point>\\n'\n",
      " '        <coordinates>5.38107,43.29695</coordinates>\\n'\n",
      " '      </Point>\\n'\n",
      " '      '\n",
      " '<Style><IconStyle><scale>3</scale><Icon><href></href></Icon></IconStyle></Style>\\n'\n",
      " '    </Placemark>\\n'\n",
      " '    <Placemark>\\n'\n",
      " '      <name>Lyon</name>\\n'\n",
      " '      <description>LFLY 310500Z 3106/0106 16006KT 8000 OVC030 PROB30 TEMPO '\n",
      " '3106/3109 4000 -RADZ BR BKN020 TEMPO 3110/3113 33015G25KT 4000 SHRA '\n",
      " 'SCT020TCU OVC030 BECMG 3110/3112 33015KT TEMPO 3113/3118 34015G30KT 4000 '\n",
      " 'SHRA SCT015TCU BKN030 BECMG 3122/3124 36005KT=</description>\\n'\n",
      " '      <Point>\\n'\n",
      " '        <coordinates>4.84671,45.74846</coordinates>\\n'\n",
      " '      </Point>\\n'\n",
      " '      '\n",
      " '<Style><IconStyle><scale>3</scale><Icon><href>http://franck.favetta.free.fr/cours/lyon1/tiwsig/exercices/meteo/images/icones/pluie.png</href></Icon></IconStyle></Style>\\n'\n",
      " '    </Placemark>\\n'\n",
      " '    <Placemark>\\n'\n",
      " '      <name>Lille</name>\\n'\n",
      " '      <description>LFQQ 310654Z 3106/0112 30018KT 9999 SCT030 TEMPO '\n",
      " '3106/3119 30023G35KT FM312100 33012KT 9999 SCT040 BECMG 3122/0101 24010KT '\n",
      " 'BECMG 0104/0107 BKN008 OVC013 TEMPO 0107/0112 3000 DZRA '\n",
      " 'OVC005=</description>\\n'\n",
      " '      <Point>\\n'\n",
      " '        <coordinates>3.05858,50.63297</coordinates>\\n'\n",
      " '      </Point>\\n'\n",
      " '      '\n",
      " '<Style><IconStyle><scale>3</scale><Icon><href>http://franck.favetta.free.fr/cours/lyon1/tiwsig/exercices/meteo/images/icones/pluie.png</href></Icon></IconStyle></Style>\\n'\n",
      " '    </Placemark>\\n'\n",
      " '    <Placemark>\\n'\n",
      " '      <name>Bordeaux</name>\\n'\n",
      " '      <description>LFBD 310603Z 3106/0112 30005KT 9999 BKN014 OVC020 '\n",
      " 'TX10/3114Z TN03/3124Z TEMPO 3106/3112 2000 -RADZ BKN003 BECMG 3112/3114 '\n",
      " '32012KT SCT020 BECMG 0102/0104 VRB02KT PROB30 0104/0108 MIFG=</description>\\n'\n",
      " '      <Point>\\n'\n",
      " '        <coordinates>-0.5805,44.84044</coordinates>\\n'\n",
      " '      </Point>\\n'\n",
      " '      '\n",
      " '<Style><IconStyle><scale>3</scale><Icon><href>http://franck.favetta.free.fr/cours/lyon1/tiwsig/exercices/meteo/images/icones/pluie.png</href></Icon></IconStyle></Style>\\n'\n",
      " '    </Placemark>\\n'\n",
      " '  </Document>\\n'\n",
      " '</kml>')\n"
     ]
    }
   ],
   "source": [
    "from pprint import pprint\n",
    "from yattag import Doc, indent\n",
    "\n",
    "doc, tag, text = Doc().tagtext()\n",
    "\n",
    "\n",
    "doc.asis('<?xml version=\"1.0\" encoding=\"UTF-8\"?>')\n",
    "with tag('kml', xmlns=\"http://www.opengis.net/kml/2.2\"):\n",
    "    with tag('Document'):\n",
    "        for aero in aeroports:\n",
    "            with tag('Placemark'):\n",
    "                with tag('name'):\n",
    "                    text(aero[1])\n",
    "                with tag('description'):\n",
    "                    text(tafReduced[aero[3]]['taf'] if aero[3] in tafReduced else '')\n",
    "                with tag('Point'):\n",
    "                    with tag('coordinates'):\n",
    "                        text(\"{},{}\".format(aero[5].xy[0][0], aero[5].xy[1][0]))\n",
    "                with tag('Style'):\n",
    "                    with tag('IconStyle'):\n",
    "                        with tag('scale'):\n",
    "                            text('3')\n",
    "                        with tag('Icon'):\n",
    "                            with tag('href'):\n",
    "                                if(aero[3] in tafReduced):\n",
    "                                    temps = tafReduced[aero[3]]['ciel']\n",
    "                                    if(temps == 'soleil'):\n",
    "                                        text('https://s1.qwant.com/thumbr/0x380/2/8/5c823871ecb28b140cce1d49f4457c786696a332c08420b1c58c69cda8a875/sunicon.png?u=https%3A%2F%2Fopenclipart.org%2Fimage%2F2400px%2Fsvg_to_png%2F208526%2Fsunicon.png&q=0&b=1&p=0&a=0')\n",
    "                                    elif(temps == 'nuageux'):\n",
    "                                        text('https://s1.qwant.com/thumbr/0x380/1/9/fa85ef10ef0acda773a86c40f0794b8fd59f2b7ec95bb42c18cbc06a370750/cloud-icon.png?u=http%3A%2F%2Ficons.iconarchive.com%2Ficons%2Fpaomedia%2Fsmall-n-flat%2F1024%2Fcloud-icon.png&q=0&b=1&p=0&a=0')\n",
    "                                    elif(temps == 'neige'):\n",
    "                                        text('http://franck.favetta.free.fr/cours/lyon1/tiwsig/exercices/meteo/images/icones/neige.png')\n",
    "                                    elif(temps == 'pluie'):\n",
    "                                        text('http://franck.favetta.free.fr/cours/lyon1/tiwsig/exercices/meteo/images/icones/pluie.png')\n",
    "\n",
    "\n",
    "\n",
    "\n",
    "\n",
    "textfile = open(\"output.kml\", \"w\")\n",
    "a = textfile.write((indent(doc.getvalue())))\n",
    "textfile.close()\n",
    "pprint(indent(doc.getvalue()))"
   ]
  },
  {
   "cell_type": "code",
   "execution_count": null,
   "metadata": {
    "collapsed": false,
    "pycharm": {
     "name": "#%%\n"
    }
   },
   "outputs": [],
   "source": []
  }
 ],
 "metadata": {
  "interpreter": {
   "hash": "e7370f93d1d0cde622a1f8e1c04877d8463912d04d973331ad4851f04de6915a"
  },
  "kernelspec": {
   "display_name": "Python 3.8.10 64-bit",
   "language": "python",
   "name": "python3"
  },
  "language_info": {
   "codemirror_mode": {
    "name": "ipython",
    "version": 3
   },
   "file_extension": ".py",
   "mimetype": "text/x-python",
   "name": "python",
   "nbconvert_exporter": "python",
   "pygments_lexer": "ipython3",
   "version": "3.8.10"
  },
  "orig_nbformat": 4
 },
 "nbformat": 4,
 "nbformat_minor": 2
}
