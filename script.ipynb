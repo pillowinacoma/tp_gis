{
 "cells": [
  {
   "cell_type": "code",
   "execution_count": 18,
   "metadata": {},
   "outputs": [],
   "source": [
    "import requests\n",
    "import pg8000\n",
    "import ssl"
   ]
  },
  {
   "cell_type": "code",
   "execution_count": 19,
   "metadata": {},
   "outputs": [
    {
     "data": {
      "text/plain": [
       "[{'adminCode1': '11',\n",
       "  'lng': '2.3488',\n",
       "  'geonameId': 2988507,\n",
       "  'toponymName': 'Paris',\n",
       "  'countryId': '3017382',\n",
       "  'fcl': 'P',\n",
       "  'population': 2138551,\n",
       "  'countryCode': 'FR',\n",
       "  'name': 'Paris',\n",
       "  'fclName': 'city, village,...',\n",
       "  'adminCodes1': {'ISO3166_2': 'IDF'},\n",
       "  'countryName': 'France',\n",
       "  'fcodeName': 'capital of a political entity',\n",
       "  'adminName1': 'Île-de-France',\n",
       "  'lat': '48.85341',\n",
       "  'fcode': 'PPLC'},\n",
       " {'adminCode1': '93',\n",
       "  'lng': '5.38107',\n",
       "  'geonameId': 2995469,\n",
       "  'toponymName': 'Marseille',\n",
       "  'countryId': '3017382',\n",
       "  'fcl': 'P',\n",
       "  'population': 794811,\n",
       "  'countryCode': 'FR',\n",
       "  'name': 'Marseille',\n",
       "  'fclName': 'city, village,...',\n",
       "  'adminCodes1': {'ISO3166_2': 'PAC'},\n",
       "  'countryName': 'France',\n",
       "  'fcodeName': 'seat of a first-order administrative division',\n",
       "  'adminName1': \"Provence-Alpes-Côte d'Azur\",\n",
       "  'lat': '43.29695',\n",
       "  'fcode': 'PPLA'},\n",
       " {'adminCode1': '84',\n",
       "  'lng': '4.84671',\n",
       "  'geonameId': 2996944,\n",
       "  'toponymName': 'Lyon',\n",
       "  'countryId': '3017382',\n",
       "  'fcl': 'P',\n",
       "  'population': 472317,\n",
       "  'countryCode': 'FR',\n",
       "  'name': 'Lyon',\n",
       "  'fclName': 'city, village,...',\n",
       "  'adminCodes1': {'ISO3166_2': 'ARA'},\n",
       "  'countryName': 'France',\n",
       "  'fcodeName': 'seat of a first-order administrative division',\n",
       "  'adminName1': 'Auvergne-Rhône-Alpes',\n",
       "  'lat': '45.74846',\n",
       "  'fcode': 'PPLA'},\n",
       " {'adminCode1': '76',\n",
       "  'lng': '1.44367',\n",
       "  'geonameId': 2972315,\n",
       "  'toponymName': 'Toulouse',\n",
       "  'countryId': '3017382',\n",
       "  'fcl': 'P',\n",
       "  'population': 433055,\n",
       "  'countryCode': 'FR',\n",
       "  'name': 'Toulouse',\n",
       "  'fclName': 'city, village,...',\n",
       "  'adminCodes1': {'ISO3166_2': 'OCC'},\n",
       "  'countryName': 'France',\n",
       "  'fcodeName': 'seat of a first-order administrative division',\n",
       "  'adminName1': 'Occitanie',\n",
       "  'lat': '43.60426',\n",
       "  'fcode': 'PPLA'},\n",
       " {'adminCode1': '93',\n",
       "  'lng': '7.26608',\n",
       "  'geonameId': 2990440,\n",
       "  'toponymName': 'Nice',\n",
       "  'countryId': '3017382',\n",
       "  'fcl': 'P',\n",
       "  'population': 338620,\n",
       "  'countryCode': 'FR',\n",
       "  'name': 'Nice',\n",
       "  'fclName': 'city, village,...',\n",
       "  'adminCodes1': {'ISO3166_2': 'PAC'},\n",
       "  'countryName': 'France',\n",
       "  'fcodeName': 'seat of a second-order administrative division',\n",
       "  'adminName1': \"Provence-Alpes-Côte d'Azur\",\n",
       "  'lat': '43.70313',\n",
       "  'fcode': 'PPLA2'},\n",
       " {'adminCode1': '52',\n",
       "  'lng': '-1.55336',\n",
       "  'geonameId': 2990969,\n",
       "  'toponymName': 'Nantes',\n",
       "  'countryId': '3017382',\n",
       "  'fcl': 'P',\n",
       "  'population': 277269,\n",
       "  'countryCode': 'FR',\n",
       "  'name': 'Nantes',\n",
       "  'fclName': 'city, village,...',\n",
       "  'adminCodes1': {'ISO3166_2': 'PDL'},\n",
       "  'countryName': 'France',\n",
       "  'fcodeName': 'seat of a first-order administrative division',\n",
       "  'adminName1': 'Pays de la Loire',\n",
       "  'lat': '47.21725',\n",
       "  'fcode': 'PPLA'},\n",
       " {'adminCode1': '44',\n",
       "  'lng': '7.74553',\n",
       "  'geonameId': 2973783,\n",
       "  'toponymName': 'Strasbourg',\n",
       "  'countryId': '3017382',\n",
       "  'fcl': 'P',\n",
       "  'population': 274845,\n",
       "  'countryCode': 'FR',\n",
       "  'name': 'Strasbourg',\n",
       "  'fclName': 'city, village,...',\n",
       "  'adminCodes1': {'ISO3166_2': 'GES'},\n",
       "  'countryName': 'France',\n",
       "  'fcodeName': 'seat of a first-order administrative division',\n",
       "  'adminName1': 'Grand Est',\n",
       "  'lat': '48.58392',\n",
       "  'fcode': 'PPLA'},\n",
       " {'adminCode1': '76',\n",
       "  'lng': '3.87635',\n",
       "  'geonameId': 2992166,\n",
       "  'toponymName': 'Montpellier',\n",
       "  'countryId': '3017382',\n",
       "  'fcl': 'P',\n",
       "  'population': 248252,\n",
       "  'countryCode': 'FR',\n",
       "  'name': 'Montpellier',\n",
       "  'fclName': 'city, village,...',\n",
       "  'adminCodes1': {'ISO3166_2': 'OCC'},\n",
       "  'countryName': 'France',\n",
       "  'fcodeName': 'seat of a second-order administrative division',\n",
       "  'adminName1': 'Occitanie',\n",
       "  'lat': '43.61093',\n",
       "  'fcode': 'PPLA2'},\n",
       " {'adminCode1': '75',\n",
       "  'lng': '-0.5805',\n",
       "  'geonameId': 3031582,\n",
       "  'toponymName': 'Bordeaux',\n",
       "  'countryId': '3017382',\n",
       "  'fcl': 'P',\n",
       "  'population': 231844,\n",
       "  'countryCode': 'FR',\n",
       "  'name': 'Bordeaux',\n",
       "  'fclName': 'city, village,...',\n",
       "  'adminCodes1': {'ISO3166_2': 'NAQ'},\n",
       "  'countryName': 'France',\n",
       "  'fcodeName': 'seat of a first-order administrative division',\n",
       "  'adminName1': 'Nouvelle-Aquitaine',\n",
       "  'lat': '44.84044',\n",
       "  'fcode': 'PPLA'},\n",
       " {'adminCode1': '32',\n",
       "  'lng': '3.05858',\n",
       "  'geonameId': 2998324,\n",
       "  'toponymName': 'Lille',\n",
       "  'countryId': '3017382',\n",
       "  'fcl': 'P',\n",
       "  'population': 228328,\n",
       "  'countryCode': 'FR',\n",
       "  'name': 'Lille',\n",
       "  'fclName': 'city, village,...',\n",
       "  'adminCodes1': {'ISO3166_2': 'HDF'},\n",
       "  'countryName': 'France',\n",
       "  'fcodeName': 'seat of a first-order administrative division',\n",
       "  'adminName1': 'Hauts-de-France',\n",
       "  'lat': '50.63297',\n",
       "  'fcode': 'PPLA'}]"
      ]
     },
     "execution_count": 19,
     "metadata": {},
     "output_type": "execute_result"
    }
   ],
   "source": [
    "\n",
    "r = requests.get('http://api.geonames.org/search?featureClass=P&country=FR&maxRows=10&orderby=population&type=json&username=yoannbouge'); \n",
    "\n",
    "result = r.json()['geonames']\n",
    "result"
   ]
  },
  {
   "cell_type": "code",
   "execution_count": 20,
   "metadata": {},
   "outputs": [
    {
     "data": {
      "text/plain": [
       "[{'geonameId': 2988507, 'name': 'Paris', 'geometry': '2.3488 48.85341'},\n",
       " {'geonameId': 2995469, 'name': 'Marseille', 'geometry': '5.38107 43.29695'},\n",
       " {'geonameId': 2996944, 'name': 'Lyon', 'geometry': '4.84671 45.74846'},\n",
       " {'geonameId': 2972315, 'name': 'Toulouse', 'geometry': '1.44367 43.60426'},\n",
       " {'geonameId': 2990440, 'name': 'Nice', 'geometry': '7.26608 43.70313'},\n",
       " {'geonameId': 2990969, 'name': 'Nantes', 'geometry': '-1.55336 47.21725'},\n",
       " {'geonameId': 2973783, 'name': 'Strasbourg', 'geometry': '7.74553 48.58392'},\n",
       " {'geonameId': 2992166, 'name': 'Montpellier', 'geometry': '3.87635 43.61093'},\n",
       " {'geonameId': 3031582, 'name': 'Bordeaux', 'geometry': '-0.5805 44.84044'},\n",
       " {'geonameId': 2998324, 'name': 'Lille', 'geometry': '3.05858 50.63297'}]"
      ]
     },
     "execution_count": 20,
     "metadata": {},
     "output_type": "execute_result"
    }
   ],
   "source": [
    "resu = list(map(lambda x: {'geonameId': x['geonameId'], 'name': x[\n",
    "            'name'], 'geometry': (x['lng']) + ' ' + x['lat']}, result))\n",
    "resu"
   ]
  },
  {
   "cell_type": "code",
   "execution_count": 30,
   "metadata": {},
   "outputs": [],
   "source": [
    "ssl_context = ssl.SSLContext()\n",
    "ssl_context.verify_mode = ssl.CERT_NONE\n",
    "conn = pg8000.connect(user = \"p1711842\", host = \"bd-pedago.univ-lyon1.fr\", port = 5432,\n",
    "                              database = \"p1711842\", password = \"Pu1WtY83xbUx\", ssl_context=ssl_context)\n",
    "localConnection = pg8000.connect(user = \"postgres\", host = \"localhost\", port = 5432,\n",
    "                              database = \"postgres\", password = \"password\")\n",
    "                "
   ]
  },
  {
   "cell_type": "code",
   "execution_count": 22,
   "metadata": {},
   "outputs": [],
   "source": [
    "conn.run(\"CREATE TABLE if not exists public.villes (geonameid INT, geom Geometry, name character varying);\")\n",
    "conn.commit()"
   ]
  },
  {
   "cell_type": "code",
   "execution_count": 17,
   "metadata": {},
   "outputs": [],
   "source": [
    "\n",
    "for city in resu:\n",
    "    conn.run(\"INSERT INTO public.villes(geonameid, geom, name) Values({}, {}, '{}');\".format(\n",
    "        city['geonameId'], \"ST_GeomFromText('POINT({})', 4326)\".format(city['geometry']), city['name']))\n",
    "conn.commit()"
   ]
  },
  {
   "cell_type": "code",
   "execution_count": 31,
   "metadata": {},
   "outputs": [],
   "source": [
    "\n",
    "conn.run(\n",
    "    \"CREATE TABLE IF NOT EXISTS public.ville_distance_min AS SELECT vi.geonameid, vi.name, vi.geom, min(ST_DistanceSphere(ae.geom, vi.geom)) as dist_meters FROM  public.villes as vi, public.airports as ae GROUP BY vi.geonameid, vi.name, vi.geom;\"\n",
    ")\n",
    "conn.commit()\n",
    "conn.run(\n",
    "    \"CREATE TABLE IF NOT EXISTS public.aeroport_proche_ville AS SELECT vi.geom, vi.geonameid, ae.city, ae.airport_name, ae.icao, ST_DistanceSphere(ae.geom, vi.geom) FROM public.ville_distance_min as vi, public.airports as ae WHERE ST_DistanceSphere(ae.geom, vi.geom)=dist_meters; \"\n",
    ")\n",
    "conn.commit()\n"
   ]
  },
  {
   "cell_type": "code",
   "execution_count": 9,
   "metadata": {},
   "outputs": [
    {
     "data": {
      "text/plain": [
       "(['Mediterranee', 1359, 'Montpellier', 'Montpellier', 2992166],\n",
       " ['Lasbordes', 1286, 'Toulouse', 'Toulouse', 2972315],\n",
       " ['Aix Les Milles', 1347, 'Aix-les-milles', 'Marseille', 2995469],\n",
       " ['Merignac', 1264, 'Bordeaux', 'Bordeaux', 3031582],\n",
       " [\"Cote D\\\\\\\\'Azur\", 1354, 'Nice', 'Nice', 2990440],\n",
       " ['Bron', 1346, 'Lyon', 'Lyon', 2996944],\n",
       " ['Nantes Atlantique', 1418, 'Nantes', 'Nantes', 2990969],\n",
       " ['Polygone', 7892, 'Strasbourg Neudorf', 'Strasbourg', 2973783],\n",
       " ['Orly', 1386, 'Paris', 'Paris', 2988507],\n",
       " ['Lesquin', 1399, 'Lille', 'Lille', 2998324])"
      ]
     },
     "execution_count": 9,
     "metadata": {},
     "output_type": "execute_result"
    }
   ],
   "source": [
    "# Methode 3 veronoi\n",
    "conn.run(\"Select pv.airport_name, pv.id, pv.city, vi.\\\"name\\\", vi.geonameid from \\\"Polygones de Voronoï\\\" as pv INNER JOIN villes as vi ON ST_CONTAINS(pv.geom, vi.geom)\")"
   ]
  },
  {
   "cell_type": "code",
   "execution_count": 33,
   "metadata": {},
   "outputs": [
    {
     "data": {
      "text/plain": [
       "(['Orly',\n",
       "  1386,\n",
       "  'Paris',\n",
       "  'Paris',\n",
       "  '0101000020E610000027C286A757CA0240280AF4893C6D4840',\n",
       "  2988507],\n",
       " ['Aix Les Milles',\n",
       "  1347,\n",
       "  'Aix-les-milles',\n",
       "  'Marseille',\n",
       "  '0101000020E610000067F2CD36378615400B46257502A64540',\n",
       "  2995469],\n",
       " ['Bron',\n",
       "  1346,\n",
       "  'Lyon',\n",
       "  'Lyon',\n",
       "  '0101000020E6100000DEC83CF2076313409D2E8B89CDDF4640',\n",
       "  2996944],\n",
       " ['Lasbordes',\n",
       "  1286,\n",
       "  'Toulouse',\n",
       "  'Toulouse',\n",
       "  '0101000020E61000000C76C3B64519F73FF623456458CD4540',\n",
       "  2972315],\n",
       " [\"Cote D\\\\\\\\'Azur\",\n",
       "  1354,\n",
       "  'Nice',\n",
       "  'Nice',\n",
       "  '0101000020E61000008D7A884677101D40126BF12900DA4540',\n",
       "  2990440],\n",
       " ['Nantes Atlantique',\n",
       "  1418,\n",
       "  'Nantes',\n",
       "  'Nantes',\n",
       "  '0101000020E61000000AA2EE0390DAF8BF2B8716D9CE9B4740',\n",
       "  2990969],\n",
       " ['Polygone',\n",
       "  7892,\n",
       "  'Strasbourg Neudorf',\n",
       "  'Strasbourg',\n",
       "  '0101000020E61000005DBF60376CFB1E407BBDFBE3BD4A4840',\n",
       "  2973783],\n",
       " ['Mediterranee',\n",
       "  1359,\n",
       "  'Montpellier',\n",
       "  'Montpellier',\n",
       "  '0101000020E6100000FBCBEEC9C3020F40991249F432CE4540',\n",
       "  2992166],\n",
       " ['Merignac',\n",
       "  1264,\n",
       "  'Bordeaux',\n",
       "  'Bordeaux',\n",
       "  '0101000020E6100000FA7E6ABC7493E2BF0820B589936B4640',\n",
       "  3031582],\n",
       " ['Lesquin',\n",
       "  1399,\n",
       "  'Lille',\n",
       "  'Lille',\n",
       "  '0101000020E6100000F29881CAF8770840B0AC342905514940',\n",
       "  2998324])"
      ]
     },
     "execution_count": 33,
     "metadata": {},
     "output_type": "execute_result"
    }
   ],
   "source": [
    "conn.run(\"Select pv.airport_name, pv.id, pv.city, vi.name, vi.geom, vi.geonameid from public.voronoi as pv INNER JOIN public.villes as vi ON ST_CONTAINS(pv.geom, vi.geom)\")"
   ]
  },
  {
   "cell_type": "code",
   "execution_count": null,
   "metadata": {},
   "outputs": [],
   "source": [
    "\n",
    "\n",
    "conn.close()\n"
   ]
  }
 ],
 "metadata": {
  "interpreter": {
   "hash": "e7370f93d1d0cde622a1f8e1c04877d8463912d04d973331ad4851f04de6915a"
  },
  "kernelspec": {
   "display_name": "Python 3.8.10 64-bit",
   "language": "python",
   "name": "python3"
  },
  "language_info": {
   "codemirror_mode": {
    "name": "ipython",
    "version": 3
   },
   "file_extension": ".py",
   "mimetype": "text/x-python",
   "name": "python",
   "nbconvert_exporter": "python",
   "pygments_lexer": "ipython3",
   "version": "3.8.10"
  },
  "orig_nbformat": 4
 },
 "nbformat": 4,
 "nbformat_minor": 2
}
