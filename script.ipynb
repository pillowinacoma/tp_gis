{
 "cells": [
  {
   "cell_type": "code",
   "execution_count": 2,
   "metadata": {},
   "outputs": [],
   "source": [
    "import requests\n",
    "import pg8000"
   ]
  },
  {
   "cell_type": "code",
   "execution_count": 3,
   "metadata": {},
   "outputs": [],
   "source": [
    "\n",
    "r = requests.get('http://api.geonames.org/search?featureClass=P&country=FR&maxRows=10&orderby=population&type=json&username=yoannbouge'); \n",
    "\n",
    "result = r.json()['geonames']"
   ]
  },
  {
   "cell_type": "code",
   "execution_count": 4,
   "metadata": {},
   "outputs": [],
   "source": [
    "resu = list(map(lambda x: {'geonameId': x['geonameId'], 'name': x[\n",
    "            'name'], 'geometry': (x['lat']) + ' ' + x['lng']}, result))"
   ]
  },
  {
   "cell_type": "code",
   "execution_count": 18,
   "metadata": {},
   "outputs": [],
   "source": [
    "conn = pg8000.connect(user = \"postgres\", host = \"localhost\", port = 5432,\n",
    "                              database = \"postgres\", password = \"password\")"
   ]
  },
  {
   "cell_type": "code",
   "execution_count": 21,
   "metadata": {},
   "outputs": [],
   "source": [
    "for city in resu:\n",
    "    conn.run(\"INSERT INTO public.villes(geonameid, geom, name) Values({}, {}, '{}');\".format(\n",
    "        city['geonameId'], \"ST_GeomFromText('POINT({})')\".format(city['geometry']), city['name']))"
   ]
  },
  {
   "cell_type": "code",
   "execution_count": 27,
   "metadata": {},
   "outputs": [
    {
     "data": {
      "text/plain": [
       "([2988507, 'Paris', '0101000000280AF4893C6D484027C286A757CA0240'],\n",
       " [2995469, 'Marseille', '01010000000B46257502A6454067F2CD3637861540'],\n",
       " [2996944, 'Lyon', '01010000009D2E8B89CDDF4640DEC83CF207631340'],\n",
       " [2972315, 'Toulouse', '0101000000F623456458CD45400C76C3B64519F73F'],\n",
       " [2990440, 'Nice', '0101000000126BF12900DA45408D7A884677101D40'],\n",
       " [2990969, 'Nantes', '01010000002B8716D9CE9B47400AA2EE0390DAF8BF'],\n",
       " [2973783, 'Strasbourg', '01010000007BBDFBE3BD4A48405DBF60376CFB1E40'],\n",
       " [2992166, 'Montpellier', '0101000000991249F432CE4540FBCBEEC9C3020F40'],\n",
       " [3031582, 'Bordeaux', '01010000000820B589936B4640FA7E6ABC7493E2BF'],\n",
       " [2998324, 'Lille', '0101000000B0AC342905514940F29881CAF8770840'])"
      ]
     },
     "execution_count": 27,
     "metadata": {},
     "output_type": "execute_result"
    }
   ],
   "source": [
    "\n",
    "conn.run(\"SELECT * from public.villes\")\n"
   ]
  }
 ],
 "metadata": {
  "interpreter": {
   "hash": "e7370f93d1d0cde622a1f8e1c04877d8463912d04d973331ad4851f04de6915a"
  },
  "kernelspec": {
   "display_name": "Python 3.8.10 64-bit",
   "language": "python",
   "name": "python3"
  },
  "language_info": {
   "codemirror_mode": {
    "name": "ipython",
    "version": 3
   },
   "file_extension": ".py",
   "mimetype": "text/x-python",
   "name": "python",
   "nbconvert_exporter": "python",
   "pygments_lexer": "ipython3",
   "version": "3.8.10"
  },
  "orig_nbformat": 4
 },
 "nbformat": 4,
 "nbformat_minor": 2
}
